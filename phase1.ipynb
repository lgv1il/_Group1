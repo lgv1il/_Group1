{
  "nbformat": 4,
  "nbformat_minor": 0,
  "metadata": {
    "colab": {
      "provenance": [],
      "authorship_tag": "ABX9TyPb2xXo/5eSyVWkyEOOULSR",
      "include_colab_link": true
    },
    "kernelspec": {
      "name": "python3",
      "display_name": "Python 3"
    },
    "language_info": {
      "name": "python"
    }
  },
  "cells": [
    {
      "cell_type": "markdown",
      "metadata": {
        "id": "view-in-github",
        "colab_type": "text"
      },
      "source": [
        "<a href=\"https://colab.research.google.com/github/lgv1il/_Group1/blob/main/phase1.ipynb\" target=\"_parent\"><img src=\"https://colab.research.google.com/assets/colab-badge.svg\" alt=\"Open In Colab\"/></a>"
      ]
    },
    {
      "cell_type": "markdown",
      "source": [
        "Project Goal:\n",
        "\n",
        "---\n",
        "The goal of this project is to analyze a dataset on student performance to explore the key factors affecting their academic results. Using clustering and classification techniques, we aim to predict students' performance levels and provide insights for personalized educational strategies.\n",
        "\n",
        "Information About Dataset:\n",
        "\n",
        "\n",
        "---\n",
        "\n",
        "Number of objects: 26312\n",
        "\n",
        "Number of columns: 11\n",
        "\n",
        "Dataset link: https://www.kaggle.com/datasets/rabieelkharoua/students-performance-dataset\n",
        "\n",
        "Class Lable: GradeClase (Score)\n",
        "\n",
        "Attributes:\n",
        "\n",
        "---\n",
        "1- Name: Age\n",
        "\n",
        "Description: The age of the student (in years)\n",
        "\n",
        "Type: Numeric (Ratio-scaled)\n",
        "\n",
        "2- Name: Gender\n",
        "\n",
        "Description: The gender of the student  \n",
        "\n",
        "Type: Nominal\n",
        "\n",
        "3- Name: ParentalEducation\n",
        "\n",
        "Description: The education level of the student's parents\n",
        "\n",
        "Type: Ordinal\n",
        "\n",
        "4- Name: StudyTimeWeekly\n",
        "\n",
        "Description: The number of hours a student studies per week\n",
        "\n",
        "Type: Numeric (Ratio-scaled)\n",
        "\n",
        "5- Name: Absences\n",
        "\n",
        "Description: The number of days a student is absent\n",
        "\n",
        "Type: Numeric (Ratio-scaled)\n",
        "\n",
        "6- Name: Tutoring\n",
        "\n",
        "Description: Indicates whether a student attends private tutoring sessions (Yes/No)\n",
        "\n",
        "Type: Binary (Asymmetric)\n",
        "\n",
        "7- Name: ParentalSupport\n",
        "\n",
        "Description: Indicates whether parents provide support to the student (Yes/No)\n",
        "\n",
        "Type: Binary (Asymmetric)\n",
        "\n",
        "8- Name: Volunteering\n",
        "\n",
        "Description: Indicates whether the student participates in volunteering activities (Yes/No)\n",
        "\n",
        "Type: Binary (Asymmetric)\n",
        "\n",
        "9- Name: Sports\n",
        "\n",
        "Description: Indicates whether the student participates in sports activities (Yes/No)\n",
        "\n",
        "Type: Binary (Asymmetric)\n",
        "\n",
        "10- Name:  GradeClass\n",
        "\n",
        "Description: The overall academic grade level of the student  \n",
        "\n",
        "Type: Ordinal\n",
        "\n",
        "11- Name: GPA\n",
        "\n",
        "Description: The student's Grade Point Average, representing their academic performance\n",
        "\n",
        "Type: Numeric (Interval-scaled)"
      ],
      "metadata": {
        "id": "1jFv4rWDhGdA"
      }
    }
  ]
}